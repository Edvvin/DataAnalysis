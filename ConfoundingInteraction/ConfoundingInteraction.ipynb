{
 "cells": [
  {
   "cell_type": "markdown",
   "id": "c214df34-12a3-499e-ae2f-fb0937071c35",
   "metadata": {},
   "source": [
    "# Confounding an interaction\n",
    "**By: Edvin Maid** \\\n",
    "**Date: 07 June 2023**\n",
    "\n",
    "The idea of this study is to answer the following question:\n",
    "\n",
    "<div style=\"background-color: #d4d3d3; padding: 10px; border-radius: 5px;\">\n",
    "    <p>Researchers have found that underweight newborns whose mothers smoked during pregnancy are less likely to die than underweight newborns whose mothers did not smoke. Granted that smoking during pregnancy increases the risk of infant death, provide a hypothesis that could explain this finding.</p>\n",
    "</div>\n",
    "\n"
   ]
  },
  {
   "cell_type": "markdown",
   "id": "95f83c3b-525a-4ddb-9f50-53420a721fd1",
   "metadata": {},
   "source": [
    "In this study we plan to propose a data generating story in which the data is confounded. To get the effect envisioned by the question we must build such a randomly generated dataset such that when we quantify the effect of smoking is lesser than of the interaction term, while achieving low p-values of parameters"
   ]
  },
  {
   "cell_type": "code",
   "execution_count": 1,
   "id": "de3958f7-17db-47a3-a334-26391a4eb04e",
   "metadata": {
    "tags": []
   },
   "outputs": [],
   "source": [
    "# Import needed libraries\n",
    "import pandas as pd\n",
    "import numpy as np\n",
    "from matplotlib import pyplot as plt\n",
    "import seaborn as sns\n",
    "import statsmodels.api as sm\n",
    "from statsmodels.formula.api import ols"
   ]
  },
  {
   "cell_type": "markdown",
   "id": "d281a68a-1f92-49fb-bfa3-2c2831791513",
   "metadata": {},
   "source": [
    "Here we define a function that generates the data where for given distributions of variables (making them independant) we generate a target (outcome) variable as a General Linear Model (GLM) in our case a binomial model."
   ]
  },
  {
   "cell_type": "code",
   "execution_count": 2,
   "id": "b68a4918-b1ce-4ef0-87dc-75288a1122f2",
   "metadata": {
    "tags": []
   },
   "outputs": [],
   "source": [
    "def generate_data(coefficients, distributions, target, target_type, number_of_datapoints):\n",
    "    \"\"\"\n",
    "    Randomly generates a pandas dataframe containing rows with given distributions and a target column\n",
    "    the value of the target column is generated as a linear model using the previously generated covariates\n",
    "\n",
    "    Args:\n",
    "        coefficients (dict): A dictionary containing the coefficients for each feature.\n",
    "        distributions (dict): A dictionary specifying the distribution parameters for each feature.\n",
    "        target (str): The name of the target variable.\n",
    "        target_type (str): The type of the target variable (\"binary\" or other).\n",
    "        number_of_datapoints (int): The number of datapoints to generate.\n",
    "\n",
    "    Returns:\n",
    "        pandas.DataFrame: A DataFrame containing the generated data.\n",
    "\n",
    "    Raises:\n",
    "        None\n",
    "\n",
    "    \"\"\"\n",
    "    data = {}\n",
    "    \n",
    "    # Generate data for each feature\n",
    "    for feature, dist_params in distributions.items():\n",
    "        distribution, *params = dist_params\n",
    "        \n",
    "        if distribution == \"bernouli\":\n",
    "            data[feature] = np.random.binomial(1, params[0], number_of_datapoints)\n",
    "        elif distribution == \"gaussian\":\n",
    "            data[feature] = np.random.normal(*params, number_of_datapoints)\n",
    "        elif distribution == 'constant':\n",
    "            data[feature] = np.full(number_of_datapoints, params[0])\n",
    "    \n",
    "    # Generate target variable\n",
    "    target_data = np.zeros(number_of_datapoints)\n",
    "    data[target] = target_data\n",
    "    \n",
    "    # Create dataframe from generated data\n",
    "    df = pd.DataFrame(data)\n",
    "    \n",
    "    # Apply coefficients to features\n",
    "    for feature, coefficient in coefficients.items():\n",
    "        if \":\" in feature:\n",
    "            sub_features = feature.split(\":\")\n",
    "            df[target] += df[sub_features[0]] * df[sub_features[1]] * coefficient\n",
    "        else:\n",
    "            df[target] += df[feature]*coefficient\n",
    "    \n",
    "    df[target] = df[target].apply(lambda x: 1 / (1 + np.exp(-x)))\n",
    "    \n",
    "    if target_type == \"binary\":\n",
    "        target_data = np.random.binomial(1, df[target], number_of_datapoints)\n",
    "        df[target] = target_data\n",
    "    \n",
    "    return df\n"
   ]
  },
  {
   "cell_type": "markdown",
   "id": "d610f054-a26b-4698-928b-91d7fb118804",
   "metadata": {},
   "source": [
    "## How it's done\n",
    "To cause the interaction term of an assumed model in which an unobserved confounder is that some countries are underdeveloped and other are developed. We need to construct two populations. In one the death rate will be high just because it is not developed and the medical institutions and general knowledge is very bad. However, the rate of smoking in the underdeveloped country must be a lot lower, but the rate of underweight newborns is high. "
   ]
  },
  {
   "cell_type": "markdown",
   "id": "adb3c164-3c69-4e1c-bbc0-9e54c79937ab",
   "metadata": {},
   "source": [
    "The values of all coefficients given below are arbitrarily chosen and have no relation with any real world scenarios."
   ]
  },
  {
   "cell_type": "code",
   "execution_count": 3,
   "id": "425d1aff-21c6-4842-967c-9a2676aec6e5",
   "metadata": {
    "tags": []
   },
   "outputs": [
    {
     "data": {
      "text/html": [
       "<div>\n",
       "<style scoped>\n",
       "    .dataframe tbody tr th:only-of-type {\n",
       "        vertical-align: middle;\n",
       "    }\n",
       "\n",
       "    .dataframe tbody tr th {\n",
       "        vertical-align: top;\n",
       "    }\n",
       "\n",
       "    .dataframe thead th {\n",
       "        text-align: right;\n",
       "    }\n",
       "</style>\n",
       "<table border=\"1\" class=\"dataframe\">\n",
       "  <thead>\n",
       "    <tr style=\"text-align: right;\">\n",
       "      <th></th>\n",
       "      <th>smoking</th>\n",
       "      <th>underweight</th>\n",
       "      <th>underdeveloped</th>\n",
       "      <th>died_under_age_of_2</th>\n",
       "    </tr>\n",
       "  </thead>\n",
       "  <tbody>\n",
       "    <tr>\n",
       "      <th>0</th>\n",
       "      <td>0</td>\n",
       "      <td>1</td>\n",
       "      <td>1</td>\n",
       "      <td>1</td>\n",
       "    </tr>\n",
       "    <tr>\n",
       "      <th>1</th>\n",
       "      <td>0</td>\n",
       "      <td>1</td>\n",
       "      <td>1</td>\n",
       "      <td>1</td>\n",
       "    </tr>\n",
       "    <tr>\n",
       "      <th>2</th>\n",
       "      <td>0</td>\n",
       "      <td>1</td>\n",
       "      <td>1</td>\n",
       "      <td>1</td>\n",
       "    </tr>\n",
       "    <tr>\n",
       "      <th>3</th>\n",
       "      <td>0</td>\n",
       "      <td>1</td>\n",
       "      <td>1</td>\n",
       "      <td>1</td>\n",
       "    </tr>\n",
       "    <tr>\n",
       "      <th>4</th>\n",
       "      <td>0</td>\n",
       "      <td>1</td>\n",
       "      <td>1</td>\n",
       "      <td>1</td>\n",
       "    </tr>\n",
       "  </tbody>\n",
       "</table>\n",
       "</div>"
      ],
      "text/plain": [
       "   smoking  underweight  underdeveloped  died_under_age_of_2\n",
       "0        0            1               1                    1\n",
       "1        0            1               1                    1\n",
       "2        0            1               1                    1\n",
       "3        0            1               1                    1\n",
       "4        0            1               1                    1"
      ]
     },
     "execution_count": 3,
     "metadata": {},
     "output_type": "execute_result"
    }
   ],
   "source": [
    "# The GLM coefficients of the data generating process are given below\n",
    "coefficients = {\"smoking\":0.2, \"underweight\": 0.2, \"smoking:underweight\": 0.1, 'underdeveloped':10}\n",
    "\n",
    "# Construct two populations with different distributions to emphisize a correlation with whether the country is\n",
    "# developed or not.\n",
    "\n",
    "distributions_underdeveloped = {\"smoking\": (\"bernouli\", 0.03), \"underweight\": (\"bernouli\", 0.9), 'underdeveloped':('constant', 1)}\n",
    "data_underdeveloped = generate_data(coefficients, distributions_underdeveloped, target=\"died_under_age_of_2\", target_type=\"binary\", number_of_datapoints=10000)\n",
    "\n",
    "distributions_developed = {\"smoking\": (\"bernouli\", 0.5), \"underweight\": (\"bernouli\", 0.05), 'underdeveloped':('constant', 0)}\n",
    "data_developed = generate_data(coefficients, distributions_developed, target=\"died_under_age_of_2\", target_type=\"binary\", number_of_datapoints=100000)\n",
    "\n",
    "# constuct dataset\n",
    "data = pd.concat([data_underdeveloped, data_developed])\n",
    "data.head()"
   ]
  },
  {
   "cell_type": "markdown",
   "id": "8bfe7b27-3371-43eb-821b-05944df331e0",
   "metadata": {},
   "source": [
    "## Logistic regression\n",
    "Here we apply logistic regression with a model that does oblivious of the fact that the data comes from two populations at all. With this we try an fit only the smoking and underweight variables as well as its interaction term. However, because of the unobserved confounder we will get a negative interaction term."
   ]
  },
  {
   "cell_type": "code",
   "execution_count": 4,
   "id": "262efdcc-f680-45f0-8b95-96e99491ae8e",
   "metadata": {
    "tags": []
   },
   "outputs": [],
   "source": [
    "formula = 'died_under_age_of_2 ~ smoking * underweight'\n",
    "# Fit the GLM with Bernoulli distribution\n",
    "model = sm.GLM.from_formula(formula, family=sm.families.Binomial(), data=data)\n",
    "results = model.fit()"
   ]
  },
  {
   "cell_type": "markdown",
   "id": "d9a20a1e-97fc-4f3b-81d7-3882d4aff986",
   "metadata": {},
   "source": [
    "We should be able to re run this expriment as many times as we want and most of the time get a good P value <0.05"
   ]
  },
  {
   "cell_type": "code",
   "execution_count": 5,
   "id": "660d39de-64cd-4f48-85c8-1ceb7a2582e0",
   "metadata": {
    "tags": []
   },
   "outputs": [
    {
     "data": {
      "text/html": [
       "<table class=\"simpletable\">\n",
       "<caption>Generalized Linear Model Regression Results</caption>\n",
       "<tr>\n",
       "  <th>Dep. Variable:</th>   <td>died_under_age_of_2</td> <th>  No. Observations:  </th>   <td>110000</td>  \n",
       "</tr>\n",
       "<tr>\n",
       "  <th>Model:</th>                   <td>GLM</td>         <th>  Df Residuals:      </th>   <td>109996</td>  \n",
       "</tr>\n",
       "<tr>\n",
       "  <th>Model Family:</th>         <td>Binomial</td>       <th>  Df Model:          </th>   <td>     3</td>  \n",
       "</tr>\n",
       "<tr>\n",
       "  <th>Link Function:</th>          <td>Logit</td>        <th>  Scale:             </th>  <td>  1.0000</td> \n",
       "</tr>\n",
       "<tr>\n",
       "  <th>Method:</th>                 <td>IRLS</td>         <th>  Log-Likelihood:    </th>  <td> -71815.</td> \n",
       "</tr>\n",
       "<tr>\n",
       "  <th>Date:</th>             <td>Wed, 07 Jun 2023</td>   <th>  Deviance:          </th> <td>1.4363e+05</td>\n",
       "</tr>\n",
       "<tr>\n",
       "  <th>Time:</th>                 <td>17:04:34</td>       <th>  Pearson chi2:      </th>  <td>1.10e+05</td> \n",
       "</tr>\n",
       "<tr>\n",
       "  <th>No. Iterations:</th>           <td>5</td>          <th>  Pseudo R-squ. (CS):</th>   <td>0.05916</td> \n",
       "</tr>\n",
       "<tr>\n",
       "  <th>Covariance Type:</th>      <td>nonrobust</td>      <th>                     </th>      <td> </td>    \n",
       "</tr>\n",
       "</table>\n",
       "<table class=\"simpletable\">\n",
       "<tr>\n",
       "           <td></td>              <th>coef</th>     <th>std err</th>      <th>z</th>      <th>P>|z|</th>  <th>[0.025</th>    <th>0.975]</th>  \n",
       "</tr>\n",
       "<tr>\n",
       "  <th>Intercept</th>           <td>    0.0372</td> <td>    0.009</td> <td>    4.100</td> <td> 0.000</td> <td>    0.019</td> <td>    0.055</td>\n",
       "</tr>\n",
       "<tr>\n",
       "  <th>smoking</th>             <td>    0.1609</td> <td>    0.013</td> <td>   12.420</td> <td> 0.000</td> <td>    0.135</td> <td>    0.186</td>\n",
       "</tr>\n",
       "<tr>\n",
       "  <th>underweight</th>         <td>    2.1205</td> <td>    0.032</td> <td>   65.857</td> <td> 0.000</td> <td>    2.057</td> <td>    2.184</td>\n",
       "</tr>\n",
       "<tr>\n",
       "  <th>smoking:underweight</th> <td>   -1.7078</td> <td>    0.052</td> <td>  -33.140</td> <td> 0.000</td> <td>   -1.809</td> <td>   -1.607</td>\n",
       "</tr>\n",
       "</table>"
      ],
      "text/latex": [
       "\\begin{center}\n",
       "\\begin{tabular}{lclc}\n",
       "\\toprule\n",
       "\\textbf{Dep. Variable:}      & died\\_under\\_age\\_of\\_2 & \\textbf{  No. Observations:  } &   110000    \\\\\n",
       "\\textbf{Model:}              &           GLM           & \\textbf{  Df Residuals:      } &   109996    \\\\\n",
       "\\textbf{Model Family:}       &         Binomial        & \\textbf{  Df Model:          } &        3    \\\\\n",
       "\\textbf{Link Function:}      &          Logit          & \\textbf{  Scale:             } &    1.0000   \\\\\n",
       "\\textbf{Method:}             &           IRLS          & \\textbf{  Log-Likelihood:    } &   -71815.   \\\\\n",
       "\\textbf{Date:}               &     Wed, 07 Jun 2023    & \\textbf{  Deviance:          } & 1.4363e+05  \\\\\n",
       "\\textbf{Time:}               &         17:04:34        & \\textbf{  Pearson chi2:      } &  1.10e+05   \\\\\n",
       "\\textbf{No. Iterations:}     &            5            & \\textbf{  Pseudo R-squ. (CS):} &  0.05916    \\\\\n",
       "\\textbf{Covariance Type:}    &        nonrobust        & \\textbf{                     } &             \\\\\n",
       "\\bottomrule\n",
       "\\end{tabular}\n",
       "\\begin{tabular}{lcccccc}\n",
       "                             & \\textbf{coef} & \\textbf{std err} & \\textbf{z} & \\textbf{P$> |$z$|$} & \\textbf{[0.025} & \\textbf{0.975]}  \\\\\n",
       "\\midrule\n",
       "\\textbf{Intercept}           &       0.0372  &        0.009     &     4.100  &         0.000        &        0.019    &        0.055     \\\\\n",
       "\\textbf{smoking}             &       0.1609  &        0.013     &    12.420  &         0.000        &        0.135    &        0.186     \\\\\n",
       "\\textbf{underweight}         &       2.1205  &        0.032     &    65.857  &         0.000        &        2.057    &        2.184     \\\\\n",
       "\\textbf{smoking:underweight} &      -1.7078  &        0.052     &   -33.140  &         0.000        &       -1.809    &       -1.607     \\\\\n",
       "\\bottomrule\n",
       "\\end{tabular}\n",
       "%\\caption{Generalized Linear Model Regression Results}\n",
       "\\end{center}"
      ],
      "text/plain": [
       "<class 'statsmodels.iolib.summary.Summary'>\n",
       "\"\"\"\n",
       "                  Generalized Linear Model Regression Results                  \n",
       "===============================================================================\n",
       "Dep. Variable:     died_under_age_of_2   No. Observations:               110000\n",
       "Model:                             GLM   Df Residuals:                   109996\n",
       "Model Family:                 Binomial   Df Model:                            3\n",
       "Link Function:                   Logit   Scale:                          1.0000\n",
       "Method:                           IRLS   Log-Likelihood:                -71815.\n",
       "Date:                 Wed, 07 Jun 2023   Deviance:                   1.4363e+05\n",
       "Time:                         17:04:34   Pearson chi2:                 1.10e+05\n",
       "No. Iterations:                      5   Pseudo R-squ. (CS):            0.05916\n",
       "Covariance Type:             nonrobust                                         \n",
       "=======================================================================================\n",
       "                          coef    std err          z      P>|z|      [0.025      0.975]\n",
       "---------------------------------------------------------------------------------------\n",
       "Intercept               0.0372      0.009      4.100      0.000       0.019       0.055\n",
       "smoking                 0.1609      0.013     12.420      0.000       0.135       0.186\n",
       "underweight             2.1205      0.032     65.857      0.000       2.057       2.184\n",
       "smoking:underweight    -1.7078      0.052    -33.140      0.000      -1.809      -1.607\n",
       "=======================================================================================\n",
       "\"\"\""
      ]
     },
     "execution_count": 5,
     "metadata": {},
     "output_type": "execute_result"
    }
   ],
   "source": [
    "results.summary()"
   ]
  }
 ],
 "metadata": {
  "kernelspec": {
   "display_name": "a2",
   "language": "python",
   "name": "a2"
  },
  "language_info": {
   "codemirror_mode": {
    "name": "ipython",
    "version": 3
   },
   "file_extension": ".py",
   "mimetype": "text/x-python",
   "name": "python",
   "nbconvert_exporter": "python",
   "pygments_lexer": "ipython3",
   "version": "3.9.16"
  },
  "widgets": {
   "application/vnd.jupyter.widget-state+json": {
    "state": {},
    "version_major": 2,
    "version_minor": 0
   }
  }
 },
 "nbformat": 4,
 "nbformat_minor": 5
}
